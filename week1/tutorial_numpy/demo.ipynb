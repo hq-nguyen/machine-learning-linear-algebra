{
 "cells": [
  {
   "cell_type": "markdown",
   "metadata": {},
   "source": [
    "## Get starting with python algorithm: Quick sort"
   ]
  },
  {
   "cell_type": "code",
   "execution_count": null,
   "metadata": {},
   "outputs": [],
   "source": [
    "#quick sort algorithm O(nlogn)\n",
    "def quick_sort(arr):\n",
    "    if len(arr) <= 1:\n",
    "        return arr\n",
    "    pivot = arr[len(arr) // 2]\n",
    "#    left = [x for x in arr if x < pivot]\n",
    "    left = [] \n",
    "    for x in arr:\n",
    "        if x<pivot:\n",
    "            left.append(x)\n",
    "\n",
    "    middle = [x for x in arr if x == pivot]\n",
    "    right = [x for x in arr if x > pivot]\n",
    "    return (quick_sort(left) + middle + quick_sort(right))"
   ]
  },
  {
   "cell_type": "code",
   "execution_count": 43,
   "metadata": {},
   "outputs": [
    {
     "name": "stdout",
     "output_type": "stream",
     "text": [
      "Contents of the array: \n",
      "2 5 3 8 6 5 4 7 \n",
      "Contents of the array after sorting: \n",
      "2 3 4 5 5 6 7 8 "
     ]
    }
   ],
   "source": [
    "def partition(arr, low, high):\n",
    "   i = low - 1\n",
    "   pivot = arr[high]  # pivot element\n",
    "   for j in range(low, high):\n",
    "      if arr[j] <= pivot:\n",
    "         # increment\n",
    "         i = i + 1\n",
    "         arr[i], arr[j] = arr[j], arr[i]\n",
    "   arr[i + 1], arr[high] = arr[high], arr[i + 1]\n",
    "   return i + 1\n",
    "\n",
    "def quickSort(arr, low, high):\n",
    "   if low < high:\n",
    "      pi = partition(arr, low, high)\n",
    "      quickSort(arr, low, pi - 1)\n",
    "      quickSort(arr, pi + 1, high)\n",
    "\n",
    "arr = [2, 5, 3, 8, 6, 5, 4, 7]\n",
    "n = len(arr)\n",
    "print(\"Contents of the array: \")\n",
    "for i in range(n):\n",
    "   print(arr[i], end=\" \")\n",
    "quickSort(arr, 0, n - 1)\n",
    "print(\"\\nContents of the array after sorting: \")\n",
    "for i in range(n):\n",
    "   print(arr[i], end=\" \")"
   ]
  },
  {
   "cell_type": "code",
   "execution_count": 44,
   "metadata": {},
   "outputs": [
    {
     "name": "stdout",
     "output_type": "stream",
     "text": [
      "Contents of the array after sorting using quick sort:  [1, 1, 2, 3, 6, 8, 10]\n",
      "Contents of the array after sorting using quick sort:  []\n"
     ]
    }
   ],
   "source": [
    "print(\"Contents of the array after sorting using quick sort: \", quick_sort([3, 6, 8, 10, 1, 2, 1]))\n",
    "print(\"Contents of the array after sorting using quick sort: \", quick_sort([]))\n"
   ]
  },
  {
   "cell_type": "code",
   "execution_count": 45,
   "metadata": {},
   "outputs": [
    {
     "name": "stdout",
     "output_type": "stream",
     "text": [
      "2\n",
      "1\n",
      "1\n"
     ]
    }
   ],
   "source": [
    "import math\n",
    "print(math.ceil(5 / 3))\n",
    "print(math.floor(5 / 3))\n",
    "print(5 // 3)\n"
   ]
  },
  {
   "cell_type": "markdown",
   "metadata": {},
   "source": [
    "## Practicing with String data type"
   ]
  },
  {
   "cell_type": "code",
   "execution_count": 52,
   "metadata": {},
   "outputs": [
    {
     "name": "stdout",
     "output_type": "stream",
     "text": [
      "A beautiful day to code!\n",
      "A Beautiful Day To Code!\n",
      "A BEAUTIFUL DAY TO CODE!\n",
      "             A Beautiful Day To Code!             \n",
      "A beautiful day to sleep!\n"
     ]
    }
   ],
   "source": [
    "s = \"a beautiful day to code!\"\n",
    "print(s.capitalize())\n",
    "print(s.title())\n",
    "print(s.upper())\n",
    "print(s.center(50).title())\n",
    "print(s.replace(\"code!\", 'sleep!').capitalize())\n"
   ]
  },
  {
   "cell_type": "markdown",
   "metadata": {},
   "source": [
    "## Container"
   ]
  },
  {
   "cell_type": "markdown",
   "metadata": {},
   "source": [
    "##### List\n",
    "> A list is the Python equivalent of an array, but is resizeable and can contain elements of different types"
   ]
  },
  {
   "cell_type": "code",
   "execution_count": 63,
   "metadata": {},
   "outputs": [
    {
     "name": "stdout",
     "output_type": "stream",
     "text": [
      "[2, 3, 5, 7, 11, 13, 17, 19, 23, 29, 31, 'exception'] exception\n",
      "After changing the first one:\n",
      " ['two', 3, 5, 7, 11, 13, 17, 19, 23, 29, 31, 'exception']\n",
      "After adding a new item:\n",
      " ['two', 3, 5, 7, 11, 13, 17, 19, 23, 29, 31, 'exception', 'new item']\n",
      "Item removed:\n",
      " new item\n",
      "After removing the last item:\n",
      " ['two', 3, 5, 7, 11, 13, 17, 19, 23, 29, 31, 'exception']\n"
     ]
    }
   ],
   "source": [
    "chaos = [2,3,5,7,11,13,17,19,23,29,31,'exception']\n",
    "print(chaos, chaos[-1])\n",
    "\n",
    "chaos[0]= 'two'\n",
    "print('After changing the first one:\\n',chaos)\n",
    "\n",
    "chaos.append('new item')\n",
    "print('After adding a new item:\\n',chaos)\n",
    "\n",
    "last_item_remove = chaos.pop()\n",
    "print('Item removed:\\n',last_item_remove)\n",
    "print('After removing the last item:\\n',chaos)"
   ]
  },
  {
   "cell_type": "markdown",
   "metadata": {},
   "source": [
    "> <b>Loop:</b>You can loop over the elements of a list like this:"
   ]
  },
  {
   "cell_type": "code",
   "execution_count": 65,
   "metadata": {},
   "outputs": [
    {
     "name": "stdout",
     "output_type": "stream",
     "text": [
      "Cat\n",
      "Dog\n",
      "Monkey\n"
     ]
    }
   ],
   "source": [
    "animals = ['cat', 'dog', 'monkey']\n",
    "for animal in animals:\n",
    "    print(animal.capitalize())"
   ]
  },
  {
   "cell_type": "markdown",
   "metadata": {},
   "source": [
    "> ```enumerate function``` to access to the index of each element within the body of a loop"
   ]
  },
  {
   "cell_type": "code",
   "execution_count": 69,
   "metadata": {},
   "outputs": [
    {
     "name": "stdout",
     "output_type": "stream",
     "text": [
      "1: Cat\n",
      "2: Dog\n",
      "3: Monkey\n"
     ]
    }
   ],
   "source": [
    "for index, animal in enumerate(animals):\n",
    "    print('%d: %s' % (index + 1, animal.capitalize()))"
   ]
  },
  {
   "cell_type": "code",
   "execution_count": null,
   "metadata": {},
   "outputs": [],
   "source": []
  }
 ],
 "metadata": {
  "kernelspec": {
   "display_name": "Python 3",
   "language": "python",
   "name": "python3"
  },
  "language_info": {
   "codemirror_mode": {
    "name": "ipython",
    "version": 3
   },
   "file_extension": ".py",
   "mimetype": "text/x-python",
   "name": "python",
   "nbconvert_exporter": "python",
   "pygments_lexer": "ipython3",
   "version": "3.12.1"
  }
 },
 "nbformat": 4,
 "nbformat_minor": 2
}
