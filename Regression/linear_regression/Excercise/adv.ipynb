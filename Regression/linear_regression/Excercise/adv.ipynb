{
 "cells": [
  {
   "cell_type": "markdown",
   "metadata": {},
   "source": [
    "##### Compeleted function prepare_data(file_name_dataset) return (X for input and y for output)"
   ]
  },
  {
   "cell_type": "code",
   "execution_count": 73,
   "metadata": {},
   "outputs": [],
   "source": [
    "# libraries and frameworks\n",
    "import numpy as np\n",
    "import pandas as pd \n",
    "import matplotlib.pyplot as plt \n",
    "import random"
   ]
  },
  {
   "cell_type": "code",
   "execution_count": 74,
   "metadata": {},
   "outputs": [
    {
     "data": {
      "text/html": [
       "<div>\n",
       "<style scoped>\n",
       "    .dataframe tbody tr th:only-of-type {\n",
       "        vertical-align: middle;\n",
       "    }\n",
       "\n",
       "    .dataframe tbody tr th {\n",
       "        vertical-align: top;\n",
       "    }\n",
       "\n",
       "    .dataframe thead th {\n",
       "        text-align: right;\n",
       "    }\n",
       "</style>\n",
       "<table border=\"1\" class=\"dataframe\">\n",
       "  <thead>\n",
       "    <tr style=\"text-align: right;\">\n",
       "      <th></th>\n",
       "      <th>Unnamed: 0</th>\n",
       "      <th>TV</th>\n",
       "      <th>Radio</th>\n",
       "      <th>Newspaper</th>\n",
       "      <th>Sales</th>\n",
       "    </tr>\n",
       "  </thead>\n",
       "  <tbody>\n",
       "    <tr>\n",
       "      <th>0</th>\n",
       "      <td>1</td>\n",
       "      <td>230.1</td>\n",
       "      <td>37.8</td>\n",
       "      <td>69.2</td>\n",
       "      <td>22.1</td>\n",
       "    </tr>\n",
       "    <tr>\n",
       "      <th>1</th>\n",
       "      <td>2</td>\n",
       "      <td>44.5</td>\n",
       "      <td>39.3</td>\n",
       "      <td>45.1</td>\n",
       "      <td>10.4</td>\n",
       "    </tr>\n",
       "    <tr>\n",
       "      <th>2</th>\n",
       "      <td>3</td>\n",
       "      <td>17.2</td>\n",
       "      <td>45.9</td>\n",
       "      <td>69.3</td>\n",
       "      <td>9.3</td>\n",
       "    </tr>\n",
       "    <tr>\n",
       "      <th>3</th>\n",
       "      <td>4</td>\n",
       "      <td>151.5</td>\n",
       "      <td>41.3</td>\n",
       "      <td>58.5</td>\n",
       "      <td>18.5</td>\n",
       "    </tr>\n",
       "    <tr>\n",
       "      <th>4</th>\n",
       "      <td>5</td>\n",
       "      <td>180.8</td>\n",
       "      <td>10.8</td>\n",
       "      <td>58.4</td>\n",
       "      <td>12.9</td>\n",
       "    </tr>\n",
       "  </tbody>\n",
       "</table>\n",
       "</div>"
      ],
      "text/plain": [
       "   Unnamed: 0     TV  Radio  Newspaper  Sales\n",
       "0           1  230.1   37.8       69.2   22.1\n",
       "1           2   44.5   39.3       45.1   10.4\n",
       "2           3   17.2   45.9       69.3    9.3\n",
       "3           4  151.5   41.3       58.5   18.5\n",
       "4           5  180.8   10.8       58.4   12.9"
      ]
     },
     "execution_count": 74,
     "metadata": {},
     "output_type": "execute_result"
    }
   ],
   "source": [
    "df = pd.read_csv('Advertising.csv')\n",
    "df.head(5)"
   ]
  },
  {
   "cell_type": "code",
   "execution_count": 75,
   "metadata": {},
   "outputs": [],
   "source": [
    "df = df.drop(df.columns[0], axis=1)\n",
    "# Save the updated DataFrame back to a new CSV file\n",
    "df.to_csv('ad.csv', index=False)"
   ]
  },
  {
   "cell_type": "code",
   "execution_count": 76,
   "metadata": {},
   "outputs": [],
   "source": [
    "# functions\n",
    "def get_column(data, index):\n",
    "    # code here\n",
    "    result = [] \n",
    "    for i in range(len(data)):\n",
    "        result.append(data[i][index])\n",
    "    return result\n",
    "\n",
    "#  prepare data\n",
    "def prepare_data ( file_name_dataset ):\n",
    "    data = np.genfromtxt(file_name_dataset,delimiter=',',skip_header=1).tolist()\n",
    "    N = len( data )\n",
    "    \n",
    "    # get tv ( index =0)\n",
    "    tv_data = get_column( data , 0)\n",
    "    \n",
    "    # get radio ( index =1)\n",
    "    radio_data = get_column(data,1)\n",
    "    \n",
    "    # get newspaper ( index =2)\n",
    "    newspaper_data = get_column(data,2)\n",
    "    \n",
    "    # get sales ( index =3)\n",
    "    sales_data = get_column(data,3) \n",
    "    \n",
    "    # building X input and y output for training\n",
    "    X = [ tv_data , radio_data , newspaper_data ]\n",
    "    y = sales_data\n",
    "    return X , y"
   ]
  },
  {
   "cell_type": "code",
   "execution_count": 77,
   "metadata": {},
   "outputs": [
    {
     "name": "stdout",
     "output_type": "stream",
     "text": [
      "[624.1, 175.1, 300.5, 73.2]\n"
     ]
    }
   ],
   "source": [
    "# test the function\n",
    "X, y = prepare_data('ad.csv')\n",
    "list = [sum(X[0][:5]),sum(X[1][:5]),sum(X[2][:5]),sum(y[:5])]\n",
    "print ( list )"
   ]
  },
  {
   "cell_type": "markdown",
   "metadata": {},
   "source": [
    "##### Compeleted function implement_linear_regression(X_data, y_data, epoch_max, lr) then return 4 parameters w1, w2, w3, b and the loss history"
   ]
  },
  {
   "cell_type": "code",
   "execution_count": 78,
   "metadata": {},
   "outputs": [],
   "source": [
    "# initialize the parameters function\n",
    "def initialize_parameters():\n",
    "\n",
    "    # in real world we should initialize the weights and bias randomly as below\n",
    "    # w1 = random.gauss(mu=0.0,sigma=0.01 )\n",
    "    # w2 = random.gauss(mu=0.0,sigma=0.01 )\n",
    "    # w3 = random.gauss(mu=0.0,sigma=0.01 )\n",
    "    # b=0\n",
    "\n",
    "    # for this excerise we will initialize the weights and bias as follows\n",
    "    w1 , w2 , w3 , b = (0.016992259082509283 , 0.0070783670518262355 , -0.002307860847821344 , 0)\n",
    "    return w1, w2, w3, b"
   ]
  },
  {
   "cell_type": "code",
   "execution_count": 79,
   "metadata": {},
   "outputs": [],
   "source": [
    "#  predict function\n",
    "def predict(x1,x2,x3,w1, w2, w3, b):\n",
    "    # code here\n",
    "    y = w1*x1 + w2*x2 + w3*x3 + b\n",
    "    return y"
   ]
  },
  {
   "cell_type": "code",
   "execution_count": 80,
   "metadata": {},
   "outputs": [
    {
     "name": "stdout",
     "output_type": "stream",
     "text": [
      "1.0\n"
     ]
    }
   ],
   "source": [
    "# test the function\n",
    "y_predict = predict( x1 =1 , x2 =1 , x3 =1 , w1 =0 , w2 =0.5 , w3 =0 , b =0.5)\n",
    "print ( y_predict )"
   ]
  },
  {
   "cell_type": "code",
   "execution_count": 81,
   "metadata": {},
   "outputs": [],
   "source": [
    "# compute the loss function\n",
    "def compute_loss_mse(y_hat, y):\n",
    "    loss = (y_hat - y)**2\n",
    "    return loss"
   ]
  },
  {
   "cell_type": "code",
   "execution_count": 82,
   "metadata": {},
   "outputs": [
    {
     "name": "stdout",
     "output_type": "stream",
     "text": [
      "0.25\n"
     ]
    }
   ],
   "source": [
    "# test the function\n",
    "l = compute_loss_mse(y_hat = 1 , y = 0.5 )\n",
    "print ( l )"
   ]
  },
  {
   "cell_type": "code",
   "execution_count": 83,
   "metadata": {},
   "outputs": [],
   "source": [
    "# compute the gradient wi and b function\n",
    "def compute_gradient_wi(xi, y, y_hat):\n",
    "    dl_dwi = 2*xi*(y_hat - y)\n",
    "    return dl_dwi\n",
    "def compute_gradient_b(y, y_hat):\n",
    "    dl_db = 2*(y_hat-y)\n",
    "    return dl_db"
   ]
  },
  {
   "cell_type": "code",
   "execution_count": 84,
   "metadata": {},
   "outputs": [
    {
     "name": "stdout",
     "output_type": "stream",
     "text": [
      "-1.0 -3.0\n"
     ]
    }
   ],
   "source": [
    "# MSE loss, test the function\n",
    "g_wi =compute_gradient_wi(xi=1, y=1, y_hat=0.5)\n",
    "g_b = compute_gradient_b(y=2, y_hat=0.5)\n",
    "print ( g_wi , g_b )"
   ]
  },
  {
   "cell_type": "code",
   "execution_count": 85,
   "metadata": {},
   "outputs": [],
   "source": [
    "# update_weights function\n",
    "def update_weight_wi(wi, dl_dwi,lr):\n",
    "    wi = wi-lr*dl_dwi\n",
    "    return wi\n",
    "def update_weight_b(b, dl_db,lr):\n",
    "    b = b-lr*dl_db\n",
    "    return b"
   ]
  },
  {
   "cell_type": "code",
   "execution_count": 86,
   "metadata": {},
   "outputs": [
    {
     "name": "stdout",
     "output_type": "stream",
     "text": [
      "1.000005 0.50001\n"
     ]
    }
   ],
   "source": [
    "# test the function\n",
    "after_wi = update_weight_wi(wi=1, dl_dwi=-0.5,lr = 1e-5)   \n",
    "after_b = update_weight_b(b=0.5, dl_db=-1,lr=1e-5)\n",
    "print ( after_wi , after_b )"
   ]
  },
  {
   "cell_type": "code",
   "execution_count": 87,
   "metadata": {},
   "outputs": [],
   "source": [
    "# implement_linear_regression function \n",
    "def implement_linear_regression(X_data, y_data, epoch_max=50, lr =1e-5):\n",
    "    losses=[]\n",
    "    w1,w2,w3,b = initialize_parameters()\n",
    "    \n",
    "    N = len(y_data)\n",
    "    for epoch in range(epoch_max):\n",
    "        for i in range(N):\n",
    "            # get a sample\n",
    "            x1 = X_data[0][i]\n",
    "            x2 = X_data[1][i]\n",
    "            x3 = X_data[2][i]\n",
    "\n",
    "            y=y_data[i]\n",
    "\n",
    "            # compute the prediction\n",
    "            y_hat = predict(x1,x2,x3,w1,w2,w3,b)\n",
    "\n",
    "            # compute the loss\n",
    "            loss = compute_loss_mse(y,y_hat)\n",
    "\n",
    "            # compute the gradients\n",
    "            dw1 = compute_gradient_wi(x1,y,y_hat)\n",
    "            dw2 = compute_gradient_wi(x2,y,y_hat)\n",
    "            dw3 = compute_gradient_wi(x3,y,y_hat)\n",
    "            db = compute_gradient_b(y,y_hat)\n",
    "\n",
    "            # update parameters\n",
    "            w1=update_weight_wi(w1,dw1,lr)\n",
    "            w2=update_weight_wi(w2,dw2,lr)\n",
    "            w3=update_weight_wi(w3,dw3,lr)\n",
    "            b=update_weight_wi(b,db,lr)\n",
    "\n",
    "            # log the loss\n",
    "            losses.append(loss)\n",
    "    return (w1,w2,w3,b,losses)"
   ]
  },
  {
   "cell_type": "code",
   "execution_count": 88,
   "metadata": {},
   "outputs": [
    {
     "name": "stdout",
     "output_type": "stream",
     "text": [
      "[230.1, 44.5, 17.2, 151.5, 180.8]\n"
     ]
    },
    {
     "data": {
      "image/png": "[encoded data removed]",
      "text/plain": [
       "<Figure size 640x480 with 1 Axes>"
      ]
     },
     "metadata": {},
     "output_type": "display_data"
    }
   ],
   "source": [
    "#  training data by call the function and plot for 100 iteration \n",
    "X, y = prepare_data('ad.csv')\n",
    "\n",
    "print(X[0][:5])\n",
    "(w1,w2,w3,b,losses)= implement_linear_regression(X,y)\n",
    "plt.plot(losses[:100])\n",
    "plt.xlabel('#iteration')\n",
    "plt.ylabel('loss')\n",
    "plt.show()\n"
   ]
  },
  {
   "cell_type": "code",
   "execution_count": 89,
   "metadata": {},
   "outputs": [
    {
     "name": "stdout",
     "output_type": "stream",
     "text": [
      "0.04852890959018609 0.2291416152843605 0.019471276376612508\n"
     ]
    }
   ],
   "source": [
    "X, y = prepare_data('ad.csv')\n",
    "(w1,w2,w3,b,losses)=implement_linear_regression(X,y)\n",
    "print(w1,w2,w3)"
   ]
  },
  {
   "cell_type": "code",
   "execution_count": 90,
   "metadata": {},
   "outputs": [
    {
     "name": "stdout",
     "output_type": "stream",
     "text": [
      " predicted sales is 10.245522945932747\n"
     ]
    }
   ],
   "source": [
    "# given new data\n",
    "tv = 19.2\n",
    "radio = 35.9\n",
    "newspaper = 51.3\n",
    "X , y = prepare_data ('ad.csv')\n",
    "( w1 , w2 , w3 ,b , losses ) = implement_linear_regression(X , y , epoch_max =50 , lr=1e-5)\n",
    "\n",
    "sales = predict(tv,radio,newspaper,w1,w2,w3,b)\n",
    "print (f' predicted sales is { sales }')"
   ]
  },
  {
   "cell_type": "code",
   "execution_count": null,
   "metadata": {},
   "outputs": [],
   "source": []
  }
 ],
 "metadata": {
  "kernelspec": {
   "display_name": "Python 3",
   "language": "python",
   "name": "python3"
  },
  "language_info": {
   "codemirror_mode": {
    "name": "ipython",
    "version": 3
   },
   "file_extension": ".py",
   "mimetype": "text/x-python",
   "name": "python",
   "nbconvert_exporter": "python",
   "pygments_lexer": "ipython3",
   "version": "3.12.1"
  }
 },
 "nbformat": 4,
 "nbformat_minor": 2
}
